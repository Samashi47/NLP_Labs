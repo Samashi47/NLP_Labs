{
 "cells": [
  {
   "cell_type": "markdown",
   "metadata": {},
   "source": [
    "### Imports"
   ]
  },
  {
   "cell_type": "code",
   "execution_count": 1,
   "metadata": {},
   "outputs": [],
   "source": [
    "from bs4 import BeautifulSoup\n",
    "import requests\n",
    "import json\n",
    "from pymongo import MongoClient"
   ]
  },
  {
   "cell_type": "code",
   "execution_count": 2,
   "metadata": {},
   "outputs": [],
   "source": [
    "headers = {'User-Agent': 'Mozilla/5.0 (Windows NT 10.0; Win64; x64) AppleWebKit/537.36 (KHTML, like Gecko) Chrome/123.0.0.0 Safari/537.36 Edg/123.0.0.0'}\n",
    "result = requests.get('https://www.hespress.com/economie', headers=headers)\n",
    "doc = BeautifulSoup(result.text, 'html.parser')"
   ]
  },
  {
   "cell_type": "code",
   "execution_count": 3,
   "metadata": {},
   "outputs": [],
   "source": [
    "main_div = doc.find_all(name='div',attrs={'class':'posts-categoy'})\n",
    "posts = main_div[0].find_all(name='div',attrs={'class':'card-img-top'})\n",
    "articals = []\n",
    "for article in posts:\n",
    "    link = article.find(name='a').get('href')\n",
    "    title = article.find(name='a').get('title')\n",
    "    articals.append({title : link})"
   ]
  },
  {
   "cell_type": "code",
   "execution_count": 4,
   "metadata": {},
   "outputs": [],
   "source": [
    "with open('hess_article_links.json', 'w', encoding='utf-8') as f:\n",
    "    data = []\n",
    "    for article in articals:\n",
    "        title = list(article.keys())[0]\n",
    "        link = list(article.values())[0]\n",
    "        data.append({'title': title, 'link': link})\n",
    "\n",
    "    with open('hess_article_links.json', 'w', encoding='utf-8') as f:\n",
    "        json.dump(data, f, ensure_ascii=False, indent=2)"
   ]
  },
  {
   "cell_type": "code",
   "execution_count": 5,
   "metadata": {},
   "outputs": [],
   "source": [
    "with open('hess_article_links.json', 'r', encoding='utf-8') as f:\n",
    "    article_content = []\n",
    "    data = json.load(f)\n",
    "    for article in data:\n",
    "        article_result = requests.get(article['link'], headers=headers)\n",
    "        article_doc = BeautifulSoup(article_result.text, 'html.parser')\n",
    "        article_content.append(article_doc.find_all(name='div',attrs={'class':'article-content'})[0].find_all(name='p'))"
   ]
  },
  {
   "cell_type": "code",
   "execution_count": 6,
   "metadata": {},
   "outputs": [],
   "source": [
    "with open('hess_article_content.json', 'w', encoding='utf-8') as f:\n",
    "    contents = []\n",
    "    for i,content in enumerate(article_content):\n",
    "        content = ''\n",
    "        for p in article_content[i]:\n",
    "            content += p.text\n",
    "        contents.append({'title': list(data[i].values())[0], 'content': content})\n",
    "\n",
    "    with open('hess_article_content.json', 'w', encoding='utf-8') as f:\n",
    "        json.dump(contents, f, ensure_ascii=False, indent=2)"
   ]
  },
  {
   "cell_type": "code",
   "execution_count": 7,
   "metadata": {},
   "outputs": [],
   "source": [
    "with open('hess_article_links.json', 'r', encoding='utf-8') as f1:\n",
    "    links = json.load(f1)\n",
    "with open('hess_article_content.json', 'r', encoding='utf-8') as f2:\n",
    "    art_content = json.load(f2)\n",
    "client = MongoClient('mongodb://localhost:27017/')\n",
    "db = client['NLP_lab1']\n",
    "coll1 = db['hess_article_links']\n",
    "coll2 = db['hess_article_content']\n",
    "coll1.drop()\n",
    "coll1.insert_many(links)\n",
    "coll2.drop()\n",
    "coll2.insert_many(art_content)\n",
    "client.close()"
   ]
  },
  {
   "cell_type": "markdown",
   "metadata": {},
   "source": [
    "### text cleaning"
   ]
  },
  {
   "cell_type": "code",
   "execution_count": null,
   "metadata": {},
   "outputs": [],
   "source": []
  }
 ],
 "metadata": {
  "kernelspec": {
   "display_name": ".venv",
   "language": "python",
   "name": "python3"
  },
  "language_info": {
   "codemirror_mode": {
    "name": "ipython",
    "version": 3
   },
   "file_extension": ".py",
   "mimetype": "text/x-python",
   "name": "python",
   "nbconvert_exporter": "python",
   "pygments_lexer": "ipython3",
   "version": "3.10.11"
  }
 },
 "nbformat": 4,
 "nbformat_minor": 2
}
